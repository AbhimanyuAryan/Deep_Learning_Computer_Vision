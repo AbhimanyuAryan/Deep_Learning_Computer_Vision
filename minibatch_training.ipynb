{
  "nbformat": 4,
  "nbformat_minor": 0,
  "metadata": {
    "colab": {
      "name": "minibatch-training.ipynb",
      "provenance": [],
      "include_colab_link": true
    },
    "kernelspec": {
      "name": "python3",
      "display_name": "Python 3"
    }
  },
  "cells": [
    {
      "cell_type": "markdown",
      "metadata": {
        "id": "view-in-github",
        "colab_type": "text"
      },
      "source": [
        "<a href=\"https://colab.research.google.com/github/AbhimanyuAryan/Deep_Learning_Computer_Vision/blob/master/minibatch_training.ipynb\" target=\"_parent\"><img src=\"https://colab.research.google.com/assets/colab-badge.svg\" alt=\"Open In Colab\"/></a>"
      ]
    },
    {
      "cell_type": "code",
      "metadata": {
        "id": "7YIWsq_pVVxx",
        "colab_type": "code",
        "outputId": "5e53fdc6-12ba-413a-c4b4-a9eccd037e05",
        "colab": {
          "base_uri": "https://localhost:8080/",
          "height": 52
        }
      },
      "source": [
        "!curl -s https://course.fast.ai/setup/colab | bash"
      ],
      "execution_count": 105,
      "outputs": [
        {
          "output_type": "stream",
          "text": [
            "Updating fastai...\n",
            "Done.\n"
          ],
          "name": "stdout"
        }
      ]
    },
    {
      "cell_type": "code",
      "metadata": {
        "id": "ASThyCCLWjNq",
        "colab_type": "code",
        "colab": {}
      },
      "source": [
        "from pathlib import Path\n",
        "from IPython.core.debugger import set_trace\n",
        "from fastai import datasets\n",
        "import pickle, gzip, math, torch, matplotlib as mpl\n",
        "import matplotlib.pyplot as plt\n",
        "from torch import tensor\n",
        "from torch import nn\n",
        "from torch.nn import init\n",
        "\n",
        "MNIST_URL='http://deeplearning.net/data/mnist/mnist.pkl'"
      ],
      "execution_count": 0,
      "outputs": []
    },
    {
      "cell_type": "code",
      "metadata": {
        "id": "IMGKi7lGWjys",
        "colab_type": "code",
        "colab": {}
      },
      "source": [
        "def get_data():\n",
        "    path = datasets.download_data(MNIST_URL, ext='.gz')\n",
        "    with gzip.open(path, 'rb') as f:\n",
        "        ((x_train, y_train), (x_valid, y_valid), _) = pickle.load(f, encoding='latin-1')\n",
        "    return map(tensor, (x_train,y_train,x_valid,y_valid))\n",
        "\n",
        "def normalize(x, m, s): return (x-m)/s"
      ],
      "execution_count": 0,
      "outputs": []
    },
    {
      "cell_type": "code",
      "metadata": {
        "id": "ZfvfE8VDWl0J",
        "colab_type": "code",
        "colab": {}
      },
      "source": [
        "from torch import optim"
      ],
      "execution_count": 0,
      "outputs": []
    },
    {
      "cell_type": "code",
      "metadata": {
        "id": "8uoQBELzY9HE",
        "colab_type": "code",
        "colab": {}
      },
      "source": [
        "x_train, y_train, x_valid, y_valid = get_data()"
      ],
      "execution_count": 0,
      "outputs": []
    },
    {
      "cell_type": "code",
      "metadata": {
        "id": "-pTRGYyKWovG",
        "colab_type": "code",
        "colab": {}
      },
      "source": [
        "lr = 0.5\n",
        "epochs = 1"
      ],
      "execution_count": 0,
      "outputs": []
    },
    {
      "cell_type": "code",
      "metadata": {
        "id": "ECJFH6ieZCnH",
        "colab_type": "code",
        "outputId": "9e0d01c9-c0ee-40a4-fe0a-319582799399",
        "colab": {
          "base_uri": "https://localhost:8080/",
          "height": 35
        }
      },
      "source": [
        "n, m = x_train.shape\n",
        "n, m"
      ],
      "execution_count": 111,
      "outputs": [
        {
          "output_type": "execute_result",
          "data": {
            "text/plain": [
              "(50000, 784)"
            ]
          },
          "metadata": {
            "tags": []
          },
          "execution_count": 111
        }
      ]
    },
    {
      "cell_type": "code",
      "metadata": {
        "id": "h5YSLua7ZJ_F",
        "colab_type": "code",
        "outputId": "f80dca75-b9aa-4d0e-ae12-baee5c07212d",
        "colab": {
          "base_uri": "https://localhost:8080/",
          "height": 35
        }
      },
      "source": [
        "c = y_train.max() + 1\n",
        "nh = 50\n",
        "c, nh"
      ],
      "execution_count": 112,
      "outputs": [
        {
          "output_type": "execute_result",
          "data": {
            "text/plain": [
              "(tensor(10), 50)"
            ]
          },
          "metadata": {
            "tags": []
          },
          "execution_count": 112
        }
      ]
    },
    {
      "cell_type": "code",
      "metadata": {
        "id": "4a3f42D1WrCw",
        "colab_type": "code",
        "colab": {}
      },
      "source": [
        ""
      ],
      "execution_count": 0,
      "outputs": []
    },
    {
      "cell_type": "code",
      "metadata": {
        "id": "1KrT8Yz3YQD0",
        "colab_type": "code",
        "colab": {}
      },
      "source": [
        "class Model(nn.Module):\n",
        "    def __init__(self, n_in, nh, n_out):\n",
        "        super().__init__()\n",
        "        self.layers = [nn.Linear(n_in,nh), nn.ReLU(), nn.Linear(nh,n_out)]\n",
        "        \n",
        "    def __call__(self, x):\n",
        "        for l in self.layers: x = l(x)\n",
        "        return x"
      ],
      "execution_count": 0,
      "outputs": []
    },
    {
      "cell_type": "code",
      "metadata": {
        "id": "hmAoNGvLZfJ6",
        "colab_type": "code",
        "colab": {}
      },
      "source": [
        "model = Model(m, nh, 10)\n",
        "pred = model(x_train)"
      ],
      "execution_count": 0,
      "outputs": []
    },
    {
      "cell_type": "code",
      "metadata": {
        "id": "znAzqg_SZjnp",
        "colab_type": "code",
        "outputId": "8b053f63-2c87-4d39-f2a0-fcf1b87c7d95",
        "colab": {
          "base_uri": "https://localhost:8080/",
          "height": 155
        }
      },
      "source": [
        "pred"
      ],
      "execution_count": 115,
      "outputs": [
        {
          "output_type": "execute_result",
          "data": {
            "text/plain": [
              "tensor([[-0.0736,  0.0601,  0.1036,  ...,  0.2558, -0.1536, -0.0219],\n",
              "        [-0.1011,  0.2053,  0.0425,  ...,  0.2475, -0.1255, -0.0501],\n",
              "        [-0.0418,  0.0647,  0.0314,  ...,  0.1180, -0.1298, -0.0646],\n",
              "        ...,\n",
              "        [-0.0535,  0.1196,  0.0883,  ...,  0.2302, -0.0802, -0.1175],\n",
              "        [-0.0209,  0.0420,  0.1311,  ...,  0.2470, -0.0940, -0.0902],\n",
              "        [-0.0583,  0.0804,  0.0651,  ...,  0.1990, -0.1237, -0.0287]],\n",
              "       grad_fn=<AddmmBackward>)"
            ]
          },
          "metadata": {
            "tags": []
          },
          "execution_count": 115
        }
      ]
    },
    {
      "cell_type": "markdown",
      "metadata": {
        "id": "Bh7OI9_jZnCA",
        "colab_type": "text"
      },
      "source": [
        "# Cross Entropy\n",
        "\n",
        "$$\\hbox{softmax(x)}_{i} = \\frac{e^{x_{i}}}{e^{x_{0}} + e^{x_{1}} + \\cdots + e^{x_{n-1}}}$$\n",
        "\n",
        "or in better maths/words ------------------->\n",
        "\n",
        "$$\\hbox{softmax(x)}_{i} = \\frac{e^{x_{i}}}{\\sum_{0 \\leq j \\leq n-1} e^{x_{j}}}$$"
      ]
    },
    {
      "cell_type": "code",
      "metadata": {
        "id": "2lCNLbuyZmlx",
        "colab_type": "code",
        "colab": {}
      },
      "source": [
        "def log_softmax(x): return (x.exp()/ (x.exp().sum(-1, keepdim=True))).log()"
      ],
      "execution_count": 0,
      "outputs": []
    },
    {
      "cell_type": "code",
      "metadata": {
        "id": "Tv_LdOicZld5",
        "colab_type": "code",
        "colab": {}
      },
      "source": [
        "sm_pred = log_softmax(pred)"
      ],
      "execution_count": 0,
      "outputs": []
    },
    {
      "cell_type": "code",
      "metadata": {
        "id": "iO-lNt9LaRea",
        "colab_type": "code",
        "outputId": "7446566a-a349-4f03-8d37-20e43c3cec6f",
        "colab": {
          "base_uri": "https://localhost:8080/",
          "height": 155
        }
      },
      "source": [
        "sm_pred"
      ],
      "execution_count": 118,
      "outputs": [
        {
          "output_type": "execute_result",
          "data": {
            "text/plain": [
              "tensor([[-2.3737, -2.2401, -2.1965,  ..., -2.0444, -2.4538, -2.3221],\n",
              "        [-2.4182, -2.1118, -2.2746,  ..., -2.0697, -2.4426, -2.3673],\n",
              "        [-2.3194, -2.2129, -2.2462,  ..., -2.1596, -2.4074, -2.3421],\n",
              "        ...,\n",
              "        [-2.3641, -2.1910, -2.2223,  ..., -2.0804, -2.3908, -2.4282],\n",
              "        [-2.3267, -2.2638, -2.1747,  ..., -2.0588, -2.3998, -2.3960],\n",
              "        [-2.3464, -2.2078, -2.2231,  ..., -2.0891, -2.4119, -2.3168]],\n",
              "       grad_fn=<LogBackward>)"
            ]
          },
          "metadata": {
            "tags": []
          },
          "execution_count": 118
        }
      ]
    },
    {
      "cell_type": "markdown",
      "metadata": {
        "id": "MWjQ2FRNa8hk",
        "colab_type": "text"
      },
      "source": [
        "### So we want to see probability associated with y_train in our sm_pred "
      ]
    },
    {
      "cell_type": "code",
      "metadata": {
        "id": "JPXkEXOZaSmp",
        "colab_type": "code",
        "outputId": "23367644-822a-466b-ddd5-6179cd1cda1f",
        "colab": {
          "base_uri": "https://localhost:8080/",
          "height": 0
        }
      },
      "source": [
        "y_train[0]"
      ],
      "execution_count": 119,
      "outputs": [
        {
          "output_type": "execute_result",
          "data": {
            "text/plain": [
              "tensor(5)"
            ]
          },
          "metadata": {
            "tags": []
          },
          "execution_count": 119
        }
      ]
    },
    {
      "cell_type": "code",
      "metadata": {
        "id": "awtSIfDCbDLx",
        "colab_type": "code",
        "outputId": "248c3b1b-b7f3-4bf5-b27c-379917e870b0",
        "colab": {
          "base_uri": "https://localhost:8080/",
          "height": 0
        }
      },
      "source": [
        "# we have 50k numbers have so predictions are also 50k with size 10...which are \n",
        "# probabilities associated\n",
        "# with y_train number with respect to all the numbers given in the set 0-9\n",
        "sm_pred.shape"
      ],
      "execution_count": 120,
      "outputs": [
        {
          "output_type": "execute_result",
          "data": {
            "text/plain": [
              "torch.Size([50000, 10])"
            ]
          },
          "metadata": {
            "tags": []
          },
          "execution_count": 120
        }
      ]
    },
    {
      "cell_type": "code",
      "metadata": {
        "id": "-qgKgG7gbGbJ",
        "colab_type": "code",
        "outputId": "0bdca24d-f186-4c96-d82b-f9f1e7b1b687",
        "colab": {
          "base_uri": "https://localhost:8080/",
          "height": 0
        }
      },
      "source": [
        "# check at 5th position....\n",
        "sm_pred[0], y_train[0]"
      ],
      "execution_count": 121,
      "outputs": [
        {
          "output_type": "execute_result",
          "data": {
            "text/plain": [
              "(tensor([-2.3737, -2.2401, -2.1965, -2.4745, -2.3991, -2.1813, -2.4323, -2.0444,\n",
              "         -2.4538, -2.3221], grad_fn=<SelectBackward>), tensor(5))"
            ]
          },
          "metadata": {
            "tags": []
          },
          "execution_count": 121
        }
      ]
    },
    {
      "cell_type": "code",
      "metadata": {
        "id": "zLnBH22PbsJg",
        "colab_type": "code",
        "outputId": "09cde7c2-f2e9-48b3-e700-db6af36e831f",
        "colab": {
          "base_uri": "https://localhost:8080/",
          "height": 0
        }
      },
      "source": [
        "y_train.shape[0]"
      ],
      "execution_count": 122,
      "outputs": [
        {
          "output_type": "execute_result",
          "data": {
            "text/plain": [
              "50000"
            ]
          },
          "metadata": {
            "tags": []
          },
          "execution_count": 122
        }
      ]
    },
    {
      "cell_type": "code",
      "metadata": {
        "id": "Y2mhUoricbu6",
        "colab_type": "code",
        "outputId": "4770409f-8c1d-41bd-c8c2-1b49411e3422",
        "colab": {
          "base_uri": "https://localhost:8080/",
          "height": 0
        }
      },
      "source": [
        "sm_pred[range(50000), y_train]"
      ],
      "execution_count": 123,
      "outputs": [
        {
          "output_type": "execute_result",
          "data": {
            "text/plain": [
              "tensor([-2.1813, -2.4182, -2.3592,  ..., -2.3908, -2.3374, -2.4119],\n",
              "       grad_fn=<IndexBackward>)"
            ]
          },
          "metadata": {
            "tags": []
          },
          "execution_count": 123
        }
      ]
    },
    {
      "cell_type": "code",
      "metadata": {
        "id": "gTe92TCUc3pf",
        "colab_type": "code",
        "outputId": "14118b29-9257-430c-b2fa-619badc5450e",
        "colab": {
          "base_uri": "https://localhost:8080/",
          "height": 0
        }
      },
      "source": [
        "sm_pred[range(2), [5,0]] # so basically we are grabbing tensor positions at 5 & 0 from log_softmax output"
      ],
      "execution_count": 124,
      "outputs": [
        {
          "output_type": "execute_result",
          "data": {
            "text/plain": [
              "tensor([-2.1813, -2.4182], grad_fn=<IndexBackward>)"
            ]
          },
          "metadata": {
            "tags": []
          },
          "execution_count": 124
        }
      ]
    },
    {
      "cell_type": "code",
      "metadata": {
        "id": "duwhLDESiT7-",
        "colab_type": "code",
        "colab": {}
      },
      "source": [
        "def nll(input, target): return -input[range(target.shape[0]), target].mean()"
      ],
      "execution_count": 0,
      "outputs": []
    },
    {
      "cell_type": "code",
      "metadata": {
        "id": "Vo08BX9Ii6n7",
        "colab_type": "code",
        "colab": {}
      },
      "source": [
        "loss = nll(sm_pred, y_train)"
      ],
      "execution_count": 0,
      "outputs": []
    },
    {
      "cell_type": "code",
      "metadata": {
        "id": "yk70S7jqi93m",
        "colab_type": "code",
        "outputId": "172ce731-31c2-47d4-e42e-aceac984f5d6",
        "colab": {
          "base_uri": "https://localhost:8080/",
          "height": 0
        }
      },
      "source": [
        "loss"
      ],
      "execution_count": 127,
      "outputs": [
        {
          "output_type": "execute_result",
          "data": {
            "text/plain": [
              "tensor(2.3302, grad_fn=<NegBackward>)"
            ]
          },
          "metadata": {
            "tags": []
          },
          "execution_count": 127
        }
      ]
    },
    {
      "cell_type": "markdown",
      "metadata": {
        "id": "o_uNK_14jIvn",
        "colab_type": "text"
      },
      "source": [
        "![image.png](data:image/png;base64,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)"
      ]
    },
    {
      "cell_type": "code",
      "metadata": {
        "id": "Qm4TpgNCjIJ1",
        "colab_type": "code",
        "colab": {}
      },
      "source": [
        "def log_softmax(x): return x - x.exp().sum(-1,keepdim=True).log()"
      ],
      "execution_count": 0,
      "outputs": []
    },
    {
      "cell_type": "code",
      "metadata": {
        "id": "161rPSMei-t8",
        "colab_type": "code",
        "outputId": "4482b7ad-f518-4e9d-fd89-0a184ae697ce",
        "colab": {
          "base_uri": "https://localhost:8080/",
          "height": 0
        }
      },
      "source": [
        "nll(log_softmax(pred), y_train)"
      ],
      "execution_count": 129,
      "outputs": [
        {
          "output_type": "execute_result",
          "data": {
            "text/plain": [
              "tensor(2.3302, grad_fn=<NegBackward>)"
            ]
          },
          "metadata": {
            "tags": []
          },
          "execution_count": 129
        }
      ]
    },
    {
      "cell_type": "code",
      "metadata": {
        "id": "yuWZOBNdji13",
        "colab_type": "code",
        "colab": {}
      },
      "source": [
        "from torch.functional import F"
      ],
      "execution_count": 0,
      "outputs": []
    },
    {
      "cell_type": "code",
      "metadata": {
        "id": "2pZrTbSfjtCm",
        "colab_type": "code",
        "colab": {}
      },
      "source": [
        "loss_func = F.cross_entropy"
      ],
      "execution_count": 0,
      "outputs": []
    },
    {
      "cell_type": "markdown",
      "metadata": {
        "id": "KkeXqDMLj5Jr",
        "colab_type": "text"
      },
      "source": [
        "# *Accuracy*"
      ]
    },
    {
      "cell_type": "code",
      "metadata": {
        "id": "20AGCQq2jv3z",
        "colab_type": "code",
        "colab": {}
      },
      "source": [
        "def accuracy(out, yb): return (torch.argmax(out, dim=1)==yb).float().mean()"
      ],
      "execution_count": 0,
      "outputs": []
    },
    {
      "cell_type": "code",
      "metadata": {
        "id": "Ivkkqh27kRzh",
        "colab_type": "code",
        "colab": {}
      },
      "source": [
        "bs = 64"
      ],
      "execution_count": 0,
      "outputs": []
    },
    {
      "cell_type": "code",
      "metadata": {
        "id": "fHG8VnAAk3d8",
        "colab_type": "code",
        "colab": {}
      },
      "source": [
        ""
      ],
      "execution_count": 0,
      "outputs": []
    },
    {
      "cell_type": "code",
      "metadata": {
        "id": "hEGxIgK2j4KO",
        "colab_type": "code",
        "colab": {}
      },
      "source": [
        "for epoch in range(epochs):\n",
        "  for i in range((n-1)//bs + 1):\n",
        "    start_i = i*bs\n",
        "    end_i = start_i + bs\n",
        "    # getting batch from data\n",
        "    xb = x_train[start_i: end_i]\n",
        "    yb = y_train[start_i: end_i]\n",
        "    loss = loss_func(model(xb), yb)\n",
        "\n",
        "    loss.backward() # backward does x.grad += dloss/dx https://discuss.pytorch.org/t/what-does-the-backward-function-do/9944\n",
        "    with torch.no_grad():\n",
        "      for l in model.layers:\n",
        "        if hasattr(l, 'weight'):\n",
        "          l.weight -= l.weight.grad * lr\n",
        "          l.bias -= l.bias.grad * lr\n",
        "          l.weight.grad.zero_()\n",
        "          l.bias.grad.zero_()"
      ],
      "execution_count": 0,
      "outputs": []
    },
    {
      "cell_type": "code",
      "metadata": {
        "id": "bTy6cc53kJw5",
        "colab_type": "code",
        "outputId": "9190b575-439d-4058-96ed-d9ff6f1f7b31",
        "colab": {
          "base_uri": "https://localhost:8080/",
          "height": 35
        }
      },
      "source": [
        "(n-1) / bs + 1"
      ],
      "execution_count": 135,
      "outputs": [
        {
          "output_type": "execute_result",
          "data": {
            "text/plain": [
              "782.234375"
            ]
          },
          "metadata": {
            "tags": []
          },
          "execution_count": 135
        }
      ]
    },
    {
      "cell_type": "code",
      "metadata": {
        "id": "szHbG4K6kL1u",
        "colab_type": "code",
        "outputId": "1fd35627-ed4f-47b7-dc70-45e82404bd22",
        "colab": {
          "base_uri": "https://localhost:8080/",
          "height": 35
        }
      },
      "source": [
        "loss_func(model(xb), yb), accuracy(model(xb), yb)"
      ],
      "execution_count": 136,
      "outputs": [
        {
          "output_type": "execute_result",
          "data": {
            "text/plain": [
              "(tensor(0.1444, grad_fn=<NllLossBackward>), tensor(0.9375))"
            ]
          },
          "metadata": {
            "tags": []
          },
          "execution_count": 136
        }
      ]
    },
    {
      "cell_type": "code",
      "metadata": {
        "id": "0RrVo0_jmLpY",
        "colab_type": "code",
        "colab": {}
      },
      "source": [
        "pred = model(xb)"
      ],
      "execution_count": 0,
      "outputs": []
    },
    {
      "cell_type": "code",
      "metadata": {
        "id": "hj-AuKv7mQke",
        "colab_type": "code",
        "outputId": "43f00d52-b041-40d0-df44-cf7368e2ebc2",
        "colab": {
          "base_uri": "https://localhost:8080/",
          "height": 35
        }
      },
      "source": [
        "y_train[0]"
      ],
      "execution_count": 138,
      "outputs": [
        {
          "output_type": "execute_result",
          "data": {
            "text/plain": [
              "tensor(5)"
            ]
          },
          "metadata": {
            "tags": []
          },
          "execution_count": 138
        }
      ]
    },
    {
      "cell_type": "code",
      "metadata": {
        "id": "fzbgn7ndmTZs",
        "colab_type": "code",
        "colab": {}
      },
      "source": [
        "prob_pred = log_softmax(pred)"
      ],
      "execution_count": 0,
      "outputs": []
    },
    {
      "cell_type": "code",
      "metadata": {
        "id": "w8eky-AOmgcz",
        "colab_type": "code",
        "colab": {}
      },
      "source": [
        "#prob_pred[range(50000), y_train[:3]]"
      ],
      "execution_count": 0,
      "outputs": []
    },
    {
      "cell_type": "code",
      "metadata": {
        "id": "RGCFBG9MmijJ",
        "colab_type": "code",
        "outputId": "64fe828b-93bf-47e6-f336-5d0a18ba6848",
        "colab": {
          "base_uri": "https://localhost:8080/",
          "height": 69
        }
      },
      "source": [
        "prob_pred[0]"
      ],
      "execution_count": 141,
      "outputs": [
        {
          "output_type": "execute_result",
          "data": {
            "text/plain": [
              "tensor([-1.0564e+01, -1.5190e+01, -1.2003e+01, -1.1302e+01, -5.3372e+00,\n",
              "        -1.1736e+01, -1.3357e+01, -6.9553e+00, -8.3337e+00, -6.0759e-03],\n",
              "       grad_fn=<SelectBackward>)"
            ]
          },
          "metadata": {
            "tags": []
          },
          "execution_count": 141
        }
      ]
    },
    {
      "cell_type": "code",
      "metadata": {
        "id": "UcBEc8tKncMd",
        "colab_type": "code",
        "colab": {}
      },
      "source": [
        "#nll(prob_pred, y_train)"
      ],
      "execution_count": 0,
      "outputs": []
    },
    {
      "cell_type": "markdown",
      "metadata": {
        "id": "UExkYt04pUS7",
        "colab_type": "text"
      },
      "source": [
        "## Using parameters and optim"
      ]
    },
    {
      "cell_type": "code",
      "metadata": {
        "id": "9K3lKNmAomV_",
        "colab_type": "code",
        "colab": {}
      },
      "source": [
        "class Model(nn.Module):\n",
        "  def __init__(self, n_in, nh, n_out):\n",
        "    super().__init__()\n",
        "    self.l1 = nn.Linear(n_in, nh)\n",
        "    self.l2 = nn.Linear(nh, n_out)\n",
        "  \n",
        "  def __call__(self, x): return self.l2(F.relu(self.l1(x)))"
      ],
      "execution_count": 0,
      "outputs": []
    },
    {
      "cell_type": "code",
      "metadata": {
        "id": "qahF15Eop7SK",
        "colab_type": "code",
        "colab": {}
      },
      "source": [
        "model = Model(m, nh, 10)"
      ],
      "execution_count": 0,
      "outputs": []
    },
    {
      "cell_type": "code",
      "metadata": {
        "id": "kH0dmzJQp_J4",
        "colab_type": "code",
        "outputId": "e19ff0af-1ccc-49c5-9089-32f9f27cdf68",
        "colab": {
          "base_uri": "https://localhost:8080/",
          "height": 0
        }
      },
      "source": [
        "m "
      ],
      "execution_count": 145,
      "outputs": [
        {
          "output_type": "execute_result",
          "data": {
            "text/plain": [
              "784"
            ]
          },
          "metadata": {
            "tags": []
          },
          "execution_count": 145
        }
      ]
    },
    {
      "cell_type": "code",
      "metadata": {
        "id": "8TUgdYr6qADw",
        "colab_type": "code",
        "outputId": "cb7bb0ee-a4e8-456f-967d-f9af8c52227c",
        "colab": {
          "base_uri": "https://localhost:8080/",
          "height": 0
        }
      },
      "source": [
        "for name, l in model.named_children(): print(f\"{name}: {l}\")"
      ],
      "execution_count": 146,
      "outputs": [
        {
          "output_type": "stream",
          "text": [
            "l1: Linear(in_features=784, out_features=50, bias=True)\n",
            "l2: Linear(in_features=50, out_features=10, bias=True)\n"
          ],
          "name": "stdout"
        }
      ]
    },
    {
      "cell_type": "code",
      "metadata": {
        "id": "jCFi3hUdqLwH",
        "colab_type": "code",
        "outputId": "b25377dd-fea0-4812-c66b-53b5c5490e2a",
        "colab": {
          "base_uri": "https://localhost:8080/",
          "height": 0
        }
      },
      "source": [
        "model"
      ],
      "execution_count": 147,
      "outputs": [
        {
          "output_type": "execute_result",
          "data": {
            "text/plain": [
              "Model(\n",
              "  (l1): Linear(in_features=784, out_features=50, bias=True)\n",
              "  (l2): Linear(in_features=50, out_features=10, bias=True)\n",
              ")"
            ]
          },
          "metadata": {
            "tags": []
          },
          "execution_count": 147
        }
      ]
    },
    {
      "cell_type": "code",
      "metadata": {
        "id": "mxEOmpKuqQzb",
        "colab_type": "code",
        "outputId": "11eb82a7-aa13-4503-eb5e-33a2c7d115f1",
        "colab": {
          "base_uri": "https://localhost:8080/",
          "height": 0
        }
      },
      "source": [
        "model.l1"
      ],
      "execution_count": 148,
      "outputs": [
        {
          "output_type": "execute_result",
          "data": {
            "text/plain": [
              "Linear(in_features=784, out_features=50, bias=True)"
            ]
          },
          "metadata": {
            "tags": []
          },
          "execution_count": 148
        }
      ]
    },
    {
      "cell_type": "code",
      "metadata": {
        "id": "4_kiDK2QqTkF",
        "colab_type": "code",
        "colab": {}
      },
      "source": [
        "def fit():\n",
        "  for epoch in range(epochs):\n",
        "    for i in range((n-1)// bs+1):\n",
        "      start_i = i*bs\n",
        "      end_i = start_i + bs\n",
        "      xb = x_train[start_i: end_i]\n",
        "      yb = y_train[start_i: end_i]\n",
        "      loss = loss_func(model(xb), yb)\n",
        "\n",
        "      loss.backward()\n",
        "      with torch.no_grad():\n",
        "        for p in model.parameters(): p -= p.grad * lr\n",
        "        model.zero_grad()"
      ],
      "execution_count": 0,
      "outputs": []
    },
    {
      "cell_type": "code",
      "metadata": {
        "id": "vrYim_wpqcvj",
        "colab_type": "code",
        "outputId": "c806f135-2a63-4593-cef5-0c30f50cc888",
        "colab": {
          "base_uri": "https://localhost:8080/",
          "height": 0
        }
      },
      "source": [
        "fit()\n",
        "loss_func(model(xb), yb), accuracy(model(xb), yb)"
      ],
      "execution_count": 150,
      "outputs": [
        {
          "output_type": "execute_result",
          "data": {
            "text/plain": [
              "(tensor(0.0799, grad_fn=<NllLossBackward>), tensor(0.9375))"
            ]
          },
          "metadata": {
            "tags": []
          },
          "execution_count": 150
        }
      ]
    },
    {
      "cell_type": "markdown",
      "metadata": {
        "id": "Vr7_WZILq-yw",
        "colab_type": "text"
      },
      "source": [
        "# Behind the scenes of nn.Module ... how parameters() work"
      ]
    },
    {
      "cell_type": "code",
      "metadata": {
        "id": "4nT3MDJnq35G",
        "colab_type": "code",
        "colab": {}
      },
      "source": [
        "class DummyModule():\n",
        "  def __init__(self, n_in, nh, n_out):\n",
        "    self._modules = {}\n",
        "    self.l1 = nn.Linear(n_in, nh)\n",
        "    self.l2 = nn.Linear(nh, n_out)\n",
        "\n",
        "  # setattr works on all self parameters. It is called as soon as self.l1 or any assignmed is called \n",
        "  def __setattr__(self, k, v):\n",
        "    if not k.startswith(\"_\"): self._modules[k] = v\n",
        "    super().__setattr__(k, v)\n",
        "  \n",
        "  def __repr__(self): return f'{self._modules}'\n",
        "  \n",
        "  def parameters(self):\n",
        "    for l in self._modules.values():\n",
        "      for p in l.parameters(): yield p"
      ],
      "execution_count": 0,
      "outputs": []
    },
    {
      "cell_type": "code",
      "metadata": {
        "id": "apgWtmpAsLkl",
        "colab_type": "code",
        "outputId": "18562d2b-ab79-4d14-df97-e0110f260771",
        "colab": {
          "base_uri": "https://localhost:8080/",
          "height": 55
        }
      },
      "source": [
        "mdl = DummyModule(m, nh, 10)\n",
        "mdl"
      ],
      "execution_count": 152,
      "outputs": [
        {
          "output_type": "execute_result",
          "data": {
            "text/plain": [
              "{'l1': Linear(in_features=784, out_features=50, bias=True), 'l2': Linear(in_features=50, out_features=10, bias=True)}"
            ]
          },
          "metadata": {
            "tags": []
          },
          "execution_count": 152
        }
      ]
    },
    {
      "cell_type": "code",
      "metadata": {
        "id": "W5zu1nT9sRpo",
        "colab_type": "code",
        "outputId": "6a0fa485-9a54-420a-aee1-180a29840dcf",
        "colab": {
          "base_uri": "https://localhost:8080/",
          "height": 86
        }
      },
      "source": [
        "[o.shape for o in mdl.parameters()]"
      ],
      "execution_count": 153,
      "outputs": [
        {
          "output_type": "execute_result",
          "data": {
            "text/plain": [
              "[torch.Size([50, 784]),\n",
              " torch.Size([50]),\n",
              " torch.Size([10, 50]),\n",
              " torch.Size([10])]"
            ]
          },
          "metadata": {
            "tags": []
          },
          "execution_count": 153
        }
      ]
    },
    {
      "cell_type": "markdown",
      "metadata": {
        "id": "0LAxrGRrxMnT",
        "colab_type": "text"
      },
      "source": [
        "# Registering modules "
      ]
    },
    {
      "cell_type": "code",
      "metadata": {
        "id": "woGfn97TsWN_",
        "colab_type": "code",
        "colab": {}
      },
      "source": [
        "layers = [nn.Linear(m,nh), nn.ReLU(), nn.Linear(nh,10)]"
      ],
      "execution_count": 0,
      "outputs": []
    },
    {
      "cell_type": "code",
      "metadata": {
        "id": "4ZEbjbt6xQNG",
        "colab_type": "code",
        "colab": {}
      },
      "source": [
        "class Model(nn.Module):\n",
        "  def __init__(self, layers):\n",
        "    super().__init__()\n",
        "    self.layers = layers\n",
        "    for i, l in enumerate(self.layers): self.add_module(f'layer_{i}', l)\n",
        "\n",
        "  def __call__(self,x):\n",
        "    for l in self.layers: x = l(x)\n",
        "    return x"
      ],
      "execution_count": 0,
      "outputs": []
    },
    {
      "cell_type": "code",
      "metadata": {
        "id": "tdy5VfOEx1cY",
        "colab_type": "code",
        "colab": {}
      },
      "source": [
        "model = Model(layers)"
      ],
      "execution_count": 0,
      "outputs": []
    },
    {
      "cell_type": "code",
      "metadata": {
        "id": "YA2T3qfBx3KQ",
        "colab_type": "code",
        "outputId": "5d23bafb-2295-4049-b218-a1b89b519fc4",
        "colab": {
          "base_uri": "https://localhost:8080/",
          "height": 104
        }
      },
      "source": [
        "model"
      ],
      "execution_count": 157,
      "outputs": [
        {
          "output_type": "execute_result",
          "data": {
            "text/plain": [
              "Model(\n",
              "  (layer_0): Linear(in_features=784, out_features=50, bias=True)\n",
              "  (layer_1): ReLU()\n",
              "  (layer_2): Linear(in_features=50, out_features=10, bias=True)\n",
              ")"
            ]
          },
          "metadata": {
            "tags": []
          },
          "execution_count": 157
        }
      ]
    },
    {
      "cell_type": "markdown",
      "metadata": {
        "id": "Wos9Uvr-x7Gg",
        "colab_type": "text"
      },
      "source": [
        "# Module List\n"
      ]
    },
    {
      "cell_type": "code",
      "metadata": {
        "id": "r3olU7P6x3sI",
        "colab_type": "code",
        "colab": {}
      },
      "source": [
        "class SequentialModel(nn.Module):\n",
        "  def __init__(self, layers):\n",
        "    super().__init__()\n",
        "    self.layers = nn.ModuleList(layers)\n",
        "\n",
        "  def __call__(self,x):\n",
        "    for l in self.layers: x = l(x)\n",
        "    return x"
      ],
      "execution_count": 0,
      "outputs": []
    },
    {
      "cell_type": "code",
      "metadata": {
        "id": "tbPbKUt0yOM0",
        "colab_type": "code",
        "colab": {}
      },
      "source": [
        "model = SequentialModel(layers)"
      ],
      "execution_count": 0,
      "outputs": []
    },
    {
      "cell_type": "code",
      "metadata": {
        "id": "9tITNl_YyS6a",
        "colab_type": "code",
        "outputId": "e1a51b02-035b-4ac4-ad0d-d188e187f261",
        "colab": {
          "base_uri": "https://localhost:8080/",
          "height": 138
        }
      },
      "source": [
        "model"
      ],
      "execution_count": 160,
      "outputs": [
        {
          "output_type": "execute_result",
          "data": {
            "text/plain": [
              "SequentialModel(\n",
              "  (layers): ModuleList(\n",
              "    (0): Linear(in_features=784, out_features=50, bias=True)\n",
              "    (1): ReLU()\n",
              "    (2): Linear(in_features=50, out_features=10, bias=True)\n",
              "  )\n",
              ")"
            ]
          },
          "metadata": {
            "tags": []
          },
          "execution_count": 160
        }
      ]
    },
    {
      "cell_type": "code",
      "metadata": {
        "id": "K7t2yUGGyTQL",
        "colab_type": "code",
        "outputId": "8a363435-5a93-4603-b104-bbfb54e6700c",
        "colab": {
          "base_uri": "https://localhost:8080/",
          "height": 35
        }
      },
      "source": [
        "fit()\n",
        "loss_func(model(xb), yb), accuracy(model(xb), yb) "
      ],
      "execution_count": 161,
      "outputs": [
        {
          "output_type": "execute_result",
          "data": {
            "text/plain": [
              "(tensor(0.0507, grad_fn=<NllLossBackward>), tensor(1.))"
            ]
          },
          "metadata": {
            "tags": []
          },
          "execution_count": 161
        }
      ]
    },
    {
      "cell_type": "markdown",
      "metadata": {
        "id": "Q6QnUoPkyd-N",
        "colab_type": "text"
      },
      "source": [
        "## nn.Sequential"
      ]
    },
    {
      "cell_type": "code",
      "metadata": {
        "id": "GpbBrGhyybsS",
        "colab_type": "code",
        "colab": {}
      },
      "source": [
        "model = nn.Sequential(nn.Linear(m, nh), nn.ReLU(), nn.Linear(nh,10))"
      ],
      "execution_count": 0,
      "outputs": []
    },
    {
      "cell_type": "code",
      "metadata": {
        "id": "0Wj2k76Byre6",
        "colab_type": "code",
        "outputId": "649c23ef-7348-4d0a-b5ca-67bf26f84bea",
        "colab": {
          "base_uri": "https://localhost:8080/",
          "height": 35
        }
      },
      "source": [
        "fit()\n",
        "loss_func(model(xb), yb), accuracy(model(xb), yb) "
      ],
      "execution_count": 163,
      "outputs": [
        {
          "output_type": "execute_result",
          "data": {
            "text/plain": [
              "(tensor(0.0845, grad_fn=<NllLossBackward>), tensor(1.))"
            ]
          },
          "metadata": {
            "tags": []
          },
          "execution_count": 163
        }
      ]
    },
    {
      "cell_type": "code",
      "metadata": {
        "id": "miogsIhaywEm",
        "colab_type": "code",
        "colab": {}
      },
      "source": [
        "nn.Sequential??"
      ],
      "execution_count": 0,
      "outputs": []
    },
    {
      "cell_type": "code",
      "metadata": {
        "id": "VP4lyy0Gyzfm",
        "colab_type": "code",
        "outputId": "750f5857-f44f-4849-fe1f-522b2bf31545",
        "colab": {
          "base_uri": "https://localhost:8080/",
          "height": 104
        }
      },
      "source": [
        "model"
      ],
      "execution_count": 165,
      "outputs": [
        {
          "output_type": "execute_result",
          "data": {
            "text/plain": [
              "Sequential(\n",
              "  (0): Linear(in_features=784, out_features=50, bias=True)\n",
              "  (1): ReLU()\n",
              "  (2): Linear(in_features=50, out_features=10, bias=True)\n",
              ")"
            ]
          },
          "metadata": {
            "tags": []
          },
          "execution_count": 165
        }
      ]
    },
    {
      "cell_type": "markdown",
      "metadata": {
        "id": "c6auZj7Ay5A8",
        "colab_type": "text"
      },
      "source": [
        "## Optim"
      ]
    },
    {
      "cell_type": "code",
      "metadata": {
        "id": "givmzSRky3aY",
        "colab_type": "code",
        "colab": {}
      },
      "source": [
        "class Optimizer():\n",
        "    def __init__(self, params, lr=0.5): self.params,self.lr=list(params),lr\n",
        "        \n",
        "    def step(self):\n",
        "        with torch.no_grad():\n",
        "            for p in self.params: p -= p.grad * lr\n",
        "\n",
        "    def zero_grad(self):\n",
        "        for p in self.params: p.grad.data.zero_()"
      ],
      "execution_count": 0,
      "outputs": []
    },
    {
      "cell_type": "code",
      "metadata": {
        "id": "g3_7joIpDtFe",
        "colab_type": "code",
        "colab": {}
      },
      "source": [
        "model = nn.Sequential(nn.Linear(m,nh), nn.ReLU(), nn.Linear(nh,10))"
      ],
      "execution_count": 0,
      "outputs": []
    },
    {
      "cell_type": "code",
      "metadata": {
        "id": "8IEZiGONEIGa",
        "colab_type": "code",
        "colab": {}
      },
      "source": [
        "opt = Optimizer(model.parameters())"
      ],
      "execution_count": 0,
      "outputs": []
    },
    {
      "cell_type": "code",
      "metadata": {
        "id": "yRlcYa8SELGi",
        "colab_type": "code",
        "colab": {}
      },
      "source": [
        "for epoch in range(epochs):\n",
        "    for i in range((n-1)//bs + 1):\n",
        "        start_i = i*bs\n",
        "        end_i = start_i+bs\n",
        "        xb = x_train[start_i:end_i]\n",
        "        yb = y_train[start_i:end_i]\n",
        "        pred = model(xb)\n",
        "        loss = loss_func(pred, yb)\n",
        "\n",
        "        loss.backward()\n",
        "        opt.step()\n",
        "        opt.zero_grad()"
      ],
      "execution_count": 0,
      "outputs": []
    },
    {
      "cell_type": "code",
      "metadata": {
        "id": "hHOfTdk3Eu4A",
        "colab_type": "code",
        "colab": {}
      },
      "source": [
        "pred = model(xb)"
      ],
      "execution_count": 0,
      "outputs": []
    },
    {
      "cell_type": "code",
      "metadata": {
        "id": "jpSa6vgYEmmq",
        "colab_type": "code",
        "colab": {}
      },
      "source": [
        "prob_pred = log_softmax(pred)"
      ],
      "execution_count": 0,
      "outputs": []
    },
    {
      "cell_type": "code",
      "metadata": {
        "id": "rgtWynKjFIHz",
        "colab_type": "code",
        "outputId": "42071554-8016-4a63-c740-d3cebcd8bf37",
        "colab": {
          "base_uri": "https://localhost:8080/",
          "height": 0
        }
      },
      "source": [
        "prob_pred[0]"
      ],
      "execution_count": 172,
      "outputs": [
        {
          "output_type": "execute_result",
          "data": {
            "text/plain": [
              "tensor([-13.1442, -16.3981,  -8.6732, -10.0858,  -3.8558, -13.1270, -15.4145,\n",
              "         -5.0267, -10.1798,  -0.0284], grad_fn=<SelectBackward>)"
            ]
          },
          "metadata": {
            "tags": []
          },
          "execution_count": 172
        }
      ]
    },
    {
      "cell_type": "code",
      "metadata": {
        "id": "SH4ec0yBFRpK",
        "colab_type": "code",
        "colab": {}
      },
      "source": [
        "x = torch.sum(prob_pred[0])"
      ],
      "execution_count": 0,
      "outputs": []
    },
    {
      "cell_type": "code",
      "metadata": {
        "id": "EnoVJogBFfII",
        "colab_type": "code",
        "colab": {}
      },
      "source": [
        "y = prob_pred[0][5]"
      ],
      "execution_count": 0,
      "outputs": []
    },
    {
      "cell_type": "code",
      "metadata": {
        "id": "8zoyLxasFoIG",
        "colab_type": "code",
        "outputId": "7bc423a7-a32e-42c6-ef2b-74fb99b55ff6",
        "colab": {
          "base_uri": "https://localhost:8080/",
          "height": 0
        }
      },
      "source": [
        "x/y"
      ],
      "execution_count": 175,
      "outputs": [
        {
          "output_type": "execute_result",
          "data": {
            "text/plain": [
              "tensor(7.3081, grad_fn=<DivBackward0>)"
            ]
          },
          "metadata": {
            "tags": []
          },
          "execution_count": 175
        }
      ]
    },
    {
      "cell_type": "code",
      "metadata": {
        "id": "1Cpx8HDzFpeu",
        "colab_type": "code",
        "outputId": "3c043f22-33d7-4ddb-c8f8-e89dfe82aa7f",
        "colab": {
          "base_uri": "https://localhost:8080/",
          "height": 0
        }
      },
      "source": [
        "for i in range(10):\n",
        "  print(x/prob_pred[0][i])"
      ],
      "execution_count": 176,
      "outputs": [
        {
          "output_type": "stream",
          "text": [
            "tensor(7.2986, grad_fn=<DivBackward0>)\n",
            "tensor(5.8503, grad_fn=<DivBackward0>)\n",
            "tensor(11.0609, grad_fn=<DivBackward0>)\n",
            "tensor(9.5118, grad_fn=<DivBackward0>)\n",
            "tensor(24.8805, grad_fn=<DivBackward0>)\n",
            "tensor(7.3081, grad_fn=<DivBackward0>)\n",
            "tensor(6.2236, grad_fn=<DivBackward0>)\n",
            "tensor(19.0846, grad_fn=<DivBackward0>)\n",
            "tensor(9.4239, grad_fn=<DivBackward0>)\n",
            "tensor(3381.4094, grad_fn=<DivBackward0>)\n"
          ],
          "name": "stdout"
        }
      ]
    },
    {
      "cell_type": "code",
      "metadata": {
        "id": "D6BF7RyiFygl",
        "colab_type": "code",
        "colab": {}
      },
      "source": [
        "from torch import optim"
      ],
      "execution_count": 0,
      "outputs": []
    },
    {
      "cell_type": "code",
      "metadata": {
        "id": "QzK_6aQFGQ5A",
        "colab_type": "code",
        "colab": {}
      },
      "source": [
        "optim.SGD.step??"
      ],
      "execution_count": 0,
      "outputs": []
    },
    {
      "cell_type": "code",
      "metadata": {
        "id": "7VuHQbMkGS6I",
        "colab_type": "code",
        "colab": {}
      },
      "source": [
        "def get_model():\n",
        "    model = nn.Sequential(nn.Linear(m,nh), nn.ReLU(), nn.Linear(nh,10))\n",
        "    return model, optim.SGD(model.parameters(), lr=lr)"
      ],
      "execution_count": 0,
      "outputs": []
    },
    {
      "cell_type": "code",
      "metadata": {
        "id": "WG67n6y6Gaxf",
        "colab_type": "code",
        "outputId": "325176df-4880-47d6-977d-8d5fcaebaf01",
        "colab": {
          "base_uri": "https://localhost:8080/",
          "height": 0
        }
      },
      "source": [
        "model, opt = get_model()\n",
        "loss_func(model(xb), yb)"
      ],
      "execution_count": 180,
      "outputs": [
        {
          "output_type": "execute_result",
          "data": {
            "text/plain": [
              "tensor(2.3043, grad_fn=<NllLossBackward>)"
            ]
          },
          "metadata": {
            "tags": []
          },
          "execution_count": 180
        }
      ]
    },
    {
      "cell_type": "code",
      "metadata": {
        "id": "0vn2kUI_GiJl",
        "colab_type": "code",
        "colab": {}
      },
      "source": [
        "for epoch in range(epochs):\n",
        "    for i in range((n-1)//bs + 1):\n",
        "        start_i = i*bs\n",
        "        end_i = start_i+bs\n",
        "        xb = x_train[start_i:end_i]\n",
        "        yb = y_train[start_i:end_i]\n",
        "        pred = model(xb)\n",
        "        loss = loss_func(pred, yb)\n",
        "\n",
        "        loss.backward()\n",
        "        opt.step()\n",
        "        opt.zero_grad()"
      ],
      "execution_count": 0,
      "outputs": []
    },
    {
      "cell_type": "code",
      "metadata": {
        "id": "USaGQ0QgGl51",
        "colab_type": "code",
        "outputId": "73347876-defc-452f-ac5d-a7082bb09b10",
        "colab": {
          "base_uri": "https://localhost:8080/",
          "height": 0
        }
      },
      "source": [
        "loss,acc = loss_func(model(xb), yb), accuracy(model(xb), yb)\n",
        "loss,acc"
      ],
      "execution_count": 182,
      "outputs": [
        {
          "output_type": "execute_result",
          "data": {
            "text/plain": [
              "(tensor(0.0714, grad_fn=<NllLossBackward>), tensor(1.))"
            ]
          },
          "metadata": {
            "tags": []
          },
          "execution_count": 182
        }
      ]
    },
    {
      "cell_type": "code",
      "metadata": {
        "id": "zF9HUXmlGoI1",
        "colab_type": "code",
        "colab": {}
      },
      "source": [
        "assert acc>0.7"
      ],
      "execution_count": 0,
      "outputs": []
    },
    {
      "cell_type": "markdown",
      "metadata": {
        "id": "D2z44wF4aHWM",
        "colab_type": "text"
      },
      "source": [
        "# Dataset and Dataloader"
      ]
    },
    {
      "cell_type": "code",
      "metadata": {
        "id": "qLrdUIzCGqUK",
        "colab_type": "code",
        "colab": {}
      },
      "source": [
        "# xb, yb = train_ds[i*bs: i*bs + bs]\n",
        "\n",
        "class Dataset():\n",
        "  def __init__(self, x, y): self.x, self.y = x,y\n",
        "  def __len__(self): return len(self.x)\n",
        "  def __getitem__(self, i): return self.x[i], self.y[i]"
      ],
      "execution_count": 0,
      "outputs": []
    },
    {
      "cell_type": "code",
      "metadata": {
        "id": "I1okPnTeamo-",
        "colab_type": "code",
        "colab": {}
      },
      "source": [
        "train_ds, valid_ds = Dataset(x_train, y_train), Dataset(x_valid, y_valid)"
      ],
      "execution_count": 0,
      "outputs": []
    },
    {
      "cell_type": "code",
      "metadata": {
        "id": "px0BOsr6aw0C",
        "colab_type": "code",
        "colab": {}
      },
      "source": [
        "xb, yb = train_ds[0:5]"
      ],
      "execution_count": 0,
      "outputs": []
    },
    {
      "cell_type": "code",
      "metadata": {
        "id": "QnvyR7zbbop6",
        "colab_type": "code",
        "colab": {}
      },
      "source": [
        "model, opt = get_model()"
      ],
      "execution_count": 0,
      "outputs": []
    },
    {
      "cell_type": "code",
      "metadata": {
        "id": "OM6Zd-JObpYZ",
        "colab_type": "code",
        "colab": {}
      },
      "source": [
        "for epoch in range(epochs):\n",
        "  for i in range((n-1)//bs+1):\n",
        "    xb, yb = train_ds[i*bs: i*bs+bs]\n",
        "    pred = model(xb)\n",
        "    loss = loss_func(pred, yb)\n",
        "\n",
        "    loss.backward()\n",
        "    opt.step()\n",
        "    opt.zero_grad()"
      ],
      "execution_count": 0,
      "outputs": []
    },
    {
      "cell_type": "code",
      "metadata": {
        "id": "wesv1Z2Pb9PW",
        "colab_type": "code",
        "outputId": "a6edd408-2d6a-4565-e8cc-d4ea48f5587c",
        "colab": {
          "base_uri": "https://localhost:8080/",
          "height": 35
        }
      },
      "source": [
        "loss, acc = loss_func(model(xb), yb), accuracy(model(xb), yb)\n",
        "loss, acc"
      ],
      "execution_count": 189,
      "outputs": [
        {
          "output_type": "execute_result",
          "data": {
            "text/plain": [
              "(tensor(0.1199, grad_fn=<NllLossBackward>), tensor(1.))"
            ]
          },
          "metadata": {
            "tags": []
          },
          "execution_count": 189
        }
      ]
    },
    {
      "cell_type": "markdown",
      "metadata": {
        "id": "DSSro6AhcLNX",
        "colab_type": "text"
      },
      "source": [
        "# DataLoader"
      ]
    },
    {
      "cell_type": "code",
      "metadata": {
        "id": "V6EPQFc2cI4v",
        "colab_type": "code",
        "colab": {}
      },
      "source": [
        "class DataLoader():\n",
        "  def __init__(self, ds, bs): self.ds, self.bs = ds, bs\n",
        "  def __iter__(self):\n",
        "    for i in range(0, len(self.ds), self.bs): yield self.ds[i: i+self.bs]"
      ],
      "execution_count": 0,
      "outputs": []
    },
    {
      "cell_type": "code",
      "metadata": {
        "id": "RrHDjvUCcmuQ",
        "colab_type": "code",
        "outputId": "ef8fd6db-0f87-4af3-b50a-f5db14289ab6",
        "colab": {
          "base_uri": "https://localhost:8080/",
          "height": 35
        }
      },
      "source": [
        "len(train_ds)"
      ],
      "execution_count": 191,
      "outputs": [
        {
          "output_type": "execute_result",
          "data": {
            "text/plain": [
              "50000"
            ]
          },
          "metadata": {
            "tags": []
          },
          "execution_count": 191
        }
      ]
    },
    {
      "cell_type": "code",
      "metadata": {
        "id": "G-2HeqJScv3M",
        "colab_type": "code",
        "colab": {}
      },
      "source": [
        "for i in range(0, 50000, 64):\n",
        "  print(i)"
      ],
      "execution_count": 0,
      "outputs": []
    },
    {
      "cell_type": "code",
      "metadata": {
        "id": "mGiHHzApc2q9",
        "colab_type": "code",
        "colab": {}
      },
      "source": [
        "train_dl = DataLoader(train_ds, bs)\n",
        "valid_dl = DataLoader(valid_ds, bs)"
      ],
      "execution_count": 0,
      "outputs": []
    },
    {
      "cell_type": "code",
      "metadata": {
        "id": "vGVIQDL7dL-x",
        "colab_type": "code",
        "outputId": "5fba0492-7c8f-471d-e199-d2d58620969e",
        "colab": {
          "base_uri": "https://localhost:8080/",
          "height": 35
        }
      },
      "source": [
        "train_dl"
      ],
      "execution_count": 194,
      "outputs": [
        {
          "output_type": "execute_result",
          "data": {
            "text/plain": [
              "<__main__.DataLoader at 0x7fc0261dab70>"
            ]
          },
          "metadata": {
            "tags": []
          },
          "execution_count": 194
        }
      ]
    },
    {
      "cell_type": "markdown",
      "metadata": {
        "id": "-Fq9O0zudjWw",
        "colab_type": "text"
      },
      "source": [
        "# yield is coroutine bring next thing from last point TODO:"
      ]
    },
    {
      "cell_type": "code",
      "metadata": {
        "id": "0SMqFl7gdOhp",
        "colab_type": "code",
        "colab": {}
      },
      "source": [
        "xb, yb = next(iter(valid_dl))"
      ],
      "execution_count": 0,
      "outputs": []
    },
    {
      "cell_type": "code",
      "metadata": {
        "id": "rGADM6npdpmV",
        "colab_type": "code",
        "outputId": "aee77142-3c04-43d3-aab6-ed6fe711a9b3",
        "colab": {
          "base_uri": "https://localhost:8080/",
          "height": 35
        }
      },
      "source": [
        "len(xb)"
      ],
      "execution_count": 196,
      "outputs": [
        {
          "output_type": "execute_result",
          "data": {
            "text/plain": [
              "64"
            ]
          },
          "metadata": {
            "tags": []
          },
          "execution_count": 196
        }
      ]
    },
    {
      "cell_type": "code",
      "metadata": {
        "id": "QFhkmuFbdqsc",
        "colab_type": "code",
        "colab": {}
      },
      "source": [
        "xb1, yb1 = next(iter(valid_dl))"
      ],
      "execution_count": 0,
      "outputs": []
    },
    {
      "cell_type": "code",
      "metadata": {
        "id": "CGCqLQrqdylT",
        "colab_type": "code",
        "outputId": "1c775a63-75f8-4056-af9f-63b255eb2bc8",
        "colab": {
          "base_uri": "https://localhost:8080/",
          "height": 138
        }
      },
      "source": [
        "xb"
      ],
      "execution_count": 198,
      "outputs": [
        {
          "output_type": "execute_result",
          "data": {
            "text/plain": [
              "tensor([[0., 0., 0.,  ..., 0., 0., 0.],\n",
              "        [0., 0., 0.,  ..., 0., 0., 0.],\n",
              "        [0., 0., 0.,  ..., 0., 0., 0.],\n",
              "        ...,\n",
              "        [0., 0., 0.,  ..., 0., 0., 0.],\n",
              "        [0., 0., 0.,  ..., 0., 0., 0.],\n",
              "        [0., 0., 0.,  ..., 0., 0., 0.]])"
            ]
          },
          "metadata": {
            "tags": []
          },
          "execution_count": 198
        }
      ]
    },
    {
      "cell_type": "code",
      "metadata": {
        "id": "9xJ6RPX1dz_j",
        "colab_type": "code",
        "colab": {}
      },
      "source": [
        "xb[0] == xb1[0]"
      ],
      "execution_count": 0,
      "outputs": []
    },
    {
      "cell_type": "code",
      "metadata": {
        "id": "-85j7gW_d-QW",
        "colab_type": "code",
        "outputId": "08d8bdb9-d053-4f1a-c89f-c175c9030efa",
        "colab": {
          "base_uri": "https://localhost:8080/",
          "height": 286
        }
      },
      "source": [
        "plt.imshow(xb[1].view(28,28))"
      ],
      "execution_count": 200,
      "outputs": [
        {
          "output_type": "execute_result",
          "data": {
            "text/plain": [
              "<matplotlib.image.AxesImage at 0x7fc0261aab38>"
            ]
          },
          "metadata": {
            "tags": []
          },
          "execution_count": 200
        },
        {
          "output_type": "display_data",
          "data": {
            "image/png": "[encoded data removed]",
            "text/plain": [
              "<Figure size 432x288 with 1 Axes>"
            ]
          },
          "metadata": {
            "tags": []
          }
        }
      ]
    },
    {
      "cell_type": "code",
      "metadata": {
        "id": "TDh0-bG2eFGW",
        "colab_type": "code",
        "outputId": "da2d6949-ea08-44e3-b749-26e9e033a87d",
        "colab": {
          "base_uri": "https://localhost:8080/",
          "height": 286
        }
      },
      "source": [
        "plt.imshow(xb1[1].view(28,28))"
      ],
      "execution_count": 201,
      "outputs": [
        {
          "output_type": "execute_result",
          "data": {
            "text/plain": [
              "<matplotlib.image.AxesImage at 0x7fc026102208>"
            ]
          },
          "metadata": {
            "tags": []
          },
          "execution_count": 201
        },
        {
          "output_type": "display_data",
          "data": {
            "image/png": "[encoded data removed]",
            "text/plain": [
              "<Figure size 432x288 with 1 Axes>"
            ]
          },
          "metadata": {
            "tags": []
          }
        }
      ]
    },
    {
      "cell_type": "code",
      "metadata": {
        "id": "2vf1saM3eND-",
        "colab_type": "code",
        "colab": {}
      },
      "source": [
        "model, opt  = get_model()"
      ],
      "execution_count": 0,
      "outputs": []
    },
    {
      "cell_type": "code",
      "metadata": {
        "id": "27uz2L6qmuM9",
        "colab_type": "code",
        "colab": {}
      },
      "source": [
        "def fit():\n",
        "  for epoch in range(epochs):\n",
        "    for xb, yb in train_dl:\n",
        "      pred = model(xb)\n",
        "      loss = loss_func(pred, yb)\n",
        "      loss.backward()\n",
        "      opt.step()\n",
        "      opt.zero_grad()"
      ],
      "execution_count": 0,
      "outputs": []
    },
    {
      "cell_type": "code",
      "metadata": {
        "id": "DgSZNTrNm7Mi",
        "colab_type": "code",
        "colab": {}
      },
      "source": [
        "fit()"
      ],
      "execution_count": 0,
      "outputs": []
    },
    {
      "cell_type": "code",
      "metadata": {
        "id": "PRtK6ZThm8yP",
        "colab_type": "code",
        "outputId": "d05c4915-cc05-4caa-94fa-7281bdd5a15c",
        "colab": {
          "base_uri": "https://localhost:8080/",
          "height": 35
        }
      },
      "source": [
        "loss, acc = loss_func(model(xb), yb), accuracy(model(xb), yb)\n",
        "loss, acc"
      ],
      "execution_count": 205,
      "outputs": [
        {
          "output_type": "execute_result",
          "data": {
            "text/plain": [
              "(tensor(0.1470, grad_fn=<NllLossBackward>), tensor(0.9375))"
            ]
          },
          "metadata": {
            "tags": []
          },
          "execution_count": 205
        }
      ]
    },
    {
      "cell_type": "markdown",
      "metadata": {
        "id": "_JiamNBZnRe4",
        "colab_type": "text"
      },
      "source": [
        "# Random Sampling"
      ]
    },
    {
      "cell_type": "code",
      "metadata": {
        "id": "TyTseBypnFLI",
        "colab_type": "code",
        "colab": {}
      },
      "source": [
        "class Sampler():\n",
        "  def __init__(self, ds, bs, shuffle=False):\n",
        "    self.n, self.bs, self.shuffle = len(ds), bs, shuffle\n",
        "  \n",
        "  def __iter__(self):\n",
        "        self.idxs = torch.randperm(self.n) if self.shuffle else torch.arange(self.n)\n",
        "        for i in range(0, self.n, self.bs): yield self.idxs[i:i+self.bs]"
      ],
      "execution_count": 0,
      "outputs": []
    },
    {
      "cell_type": "code",
      "metadata": {
        "id": "BHyw2Wos2x6E",
        "colab_type": "code",
        "colab": {}
      },
      "source": [
        "small_ds = Dataset(*train_ds[:10])"
      ],
      "execution_count": 0,
      "outputs": []
    },
    {
      "cell_type": "code",
      "metadata": {
        "id": "8_QRcFcR3TCg",
        "colab_type": "code",
        "colab": {
          "base_uri": "https://localhost:8080/",
          "height": 35
        },
        "outputId": "93639e84-2eb6-4be6-8fbf-206938653517"
      },
      "source": [
        "s  = Sampler(small_ds, 3, False)\n",
        "[o for o in s]"
      ],
      "execution_count": 210,
      "outputs": [
        {
          "output_type": "execute_result",
          "data": {
            "text/plain": [
              "[tensor([0, 1, 2]), tensor([3, 4, 5]), tensor([6, 7, 8]), tensor([9])]"
            ]
          },
          "metadata": {
            "tags": []
          },
          "execution_count": 210
        }
      ]
    },
    {
      "cell_type": "code",
      "metadata": {
        "id": "mA8DxECH3tNq",
        "colab_type": "code",
        "colab": {
          "base_uri": "https://localhost:8080/",
          "height": 35
        },
        "outputId": "2554a503-bad2-477a-a0da-1b00f8a33320"
      },
      "source": [
        "s = Sampler(small_ds, 3, True) \n",
        "[o for o in s]"
      ],
      "execution_count": 212,
      "outputs": [
        {
          "output_type": "execute_result",
          "data": {
            "text/plain": [
              "[tensor([0, 1, 6]), tensor([8, 5, 7]), tensor([2, 4, 3]), tensor([9])]"
            ]
          },
          "metadata": {
            "tags": []
          },
          "execution_count": 212
        }
      ]
    },
    {
      "cell_type": "code",
      "metadata": {
        "id": "iSEklEw_34kU",
        "colab_type": "code",
        "colab": {}
      },
      "source": [
        "def collate(b):\n",
        "  xs, ys = zip(*b)\n",
        "  return torch.stack(xs), torch.stack(ys)\n",
        "\n",
        "class DataLoader():\n",
        "  def __init__(self, ds, sampler, collate_fn=collate):\n",
        "    self.ds, self.sampler, self.collate_fn = ds, sampler, collate_fn\n",
        "  \n",
        "  def __iter__(self):\n",
        "        for s in self.sampler: yield self.collate_fn([self.ds[i] for i in s])"
      ],
      "execution_count": 0,
      "outputs": []
    },
    {
      "cell_type": "code",
      "metadata": {
        "id": "cAWcFMKa6a0K",
        "colab_type": "code",
        "colab": {}
      },
      "source": [
        "train_samp = Sampler(train_ds, bs, shuffle=True)\n",
        "valid_samp = Sampler(valid_ds, bs, shuffle=False)"
      ],
      "execution_count": 0,
      "outputs": []
    },
    {
      "cell_type": "code",
      "metadata": {
        "id": "MhAJWd9y6lkF",
        "colab_type": "code",
        "colab": {}
      },
      "source": [
        "train_dl = DataLoader(train_ds, sampler=train_samp, collate_fn=collate)\n",
        "valid_dl = DataLoader(valid_ds, sampler=valid_samp, collate_fn=collate)"
      ],
      "execution_count": 0,
      "outputs": []
    },
    {
      "cell_type": "code",
      "metadata": {
        "id": "aTKb-fkq6shf",
        "colab_type": "code",
        "colab": {
          "base_uri": "https://localhost:8080/",
          "height": 286
        },
        "outputId": "4d77beaa-368a-492e-9991-70cc4503dd6c"
      },
      "source": [
        "xb, yb = next(iter(valid_dl))\n",
        "plt.imshow(xb[0].view(28,28))\n",
        "yb[0]"
      ],
      "execution_count": 217,
      "outputs": [
        {
          "output_type": "execute_result",
          "data": {
            "text/plain": [
              "tensor(3)"
            ]
          },
          "metadata": {
            "tags": []
          },
          "execution_count": 217
        },
        {
          "output_type": "display_data",
          "data": {
            "image/png": "[encoded data removed]",
            "text/plain": [
              "<Figure size 432x288 with 1 Axes>"
            ]
          },
          "metadata": {
            "tags": []
          }
        }
      ]
    },
    {
      "cell_type": "code",
      "metadata": {
        "id": "02v8VPl161-G",
        "colab_type": "code",
        "colab": {
          "base_uri": "https://localhost:8080/",
          "height": 286
        },
        "outputId": "e2a66433-5d36-4406-ef67-01e85b2ea61b"
      },
      "source": [
        "xb,yb = next(iter(train_dl))\n",
        "plt.imshow(xb[0].view(28,28))\n",
        "yb[0]"
      ],
      "execution_count": 218,
      "outputs": [
        {
          "output_type": "execute_result",
          "data": {
            "text/plain": [
              "tensor(4)"
            ]
          },
          "metadata": {
            "tags": []
          },
          "execution_count": 218
        },
        {
          "output_type": "display_data",
          "data": {
            "image/png": "[encoded data removed]",
            "text/plain": [
              "<Figure size 432x288 with 1 Axes>"
            ]
          },
          "metadata": {
            "tags": []
          }
        }
      ]
    },
    {
      "cell_type": "code",
      "metadata": {
        "id": "Z7rqUQID64G9",
        "colab_type": "code",
        "colab": {
          "base_uri": "https://localhost:8080/",
          "height": 286
        },
        "outputId": "eebd7de2-6f88-4b42-b86b-c366bdde512a"
      },
      "source": [
        "xb,yb = next(iter(train_dl))\n",
        "plt.imshow(xb[0].view(28,28))\n",
        "yb[0]"
      ],
      "execution_count": 219,
      "outputs": [
        {
          "output_type": "execute_result",
          "data": {
            "text/plain": [
              "tensor(8)"
            ]
          },
          "metadata": {
            "tags": []
          },
          "execution_count": 219
        },
        {
          "output_type": "display_data",
          "data": {
            "image/png": "[encoded data removed]",
            "text/plain": [
              "<Figure size 432x288 with 1 Axes>"
            ]
          },
          "metadata": {
            "tags": []
          }
        }
      ]
    },
    {
      "cell_type": "code",
      "metadata": {
        "id": "XXBsqSvn65s9",
        "colab_type": "code",
        "colab": {
          "base_uri": "https://localhost:8080/",
          "height": 35
        },
        "outputId": "43da4f8e-c524-400e-8c86-3874b9226724"
      },
      "source": [
        "model,opt = get_model()\n",
        "fit()\n",
        "\n",
        "loss,acc = loss_func(model(xb), yb), accuracy(model(xb), yb)\n",
        "assert acc>0.7\n",
        "loss,acc"
      ],
      "execution_count": 220,
      "outputs": [
        {
          "output_type": "execute_result",
          "data": {
            "text/plain": [
              "(tensor(0.2121, grad_fn=<NllLossBackward>), tensor(0.9062))"
            ]
          },
          "metadata": {
            "tags": []
          },
          "execution_count": 220
        }
      ]
    },
    {
      "cell_type": "markdown",
      "metadata": {
        "id": "EDPmssNX-JdX",
        "colab_type": "text"
      },
      "source": [
        "# PyTorch DataLoader"
      ]
    },
    {
      "cell_type": "code",
      "metadata": {
        "id": "wJe_5CIv69JC",
        "colab_type": "code",
        "colab": {}
      },
      "source": [
        "from torch.utils.data import DataLoader, SequentialSampler, RandomSampler"
      ],
      "execution_count": 0,
      "outputs": []
    },
    {
      "cell_type": "code",
      "metadata": {
        "id": "fLie_52O_LSN",
        "colab_type": "code",
        "colab": {}
      },
      "source": [
        "train_dl = DataLoader(train_ds, bs, sampler=RandomSampler(train_ds), collate_fn=collate)\n",
        "valid_dl = DataLoader(valid_ds, bs, sampler=SequentialSampler(valid_ds), collate_fn=collate)"
      ],
      "execution_count": 0,
      "outputs": []
    },
    {
      "cell_type": "code",
      "metadata": {
        "id": "AIILqKWs_NzF",
        "colab_type": "code",
        "colab": {
          "base_uri": "https://localhost:8080/",
          "height": 35
        },
        "outputId": "d88629cc-ab84-4d4f-856f-cb92c4134673"
      },
      "source": [
        "model,opt = get_model()\n",
        "fit()\n",
        "loss_func(model(xb), yb), accuracy(model(xb), yb)"
      ],
      "execution_count": 223,
      "outputs": [
        {
          "output_type": "execute_result",
          "data": {
            "text/plain": [
              "(tensor(0.1225, grad_fn=<NllLossBackward>), tensor(0.9531))"
            ]
          },
          "metadata": {
            "tags": []
          },
          "execution_count": 223
        }
      ]
    },
    {
      "cell_type": "code",
      "metadata": {
        "id": "53QtcKCK_PwM",
        "colab_type": "code",
        "colab": {}
      },
      "source": [
        "train_dl = DataLoader(train_ds, bs, shuffle=True, drop_last=True)\n",
        "valid_dl = DataLoader(valid_ds, bs, shuffle=False)"
      ],
      "execution_count": 0,
      "outputs": []
    },
    {
      "cell_type": "code",
      "metadata": {
        "id": "2QKDLtOl_SZl",
        "colab_type": "code",
        "colab": {
          "base_uri": "https://localhost:8080/",
          "height": 35
        },
        "outputId": "92c8f10f-84ed-482e-cbfb-782b74d40242"
      },
      "source": [
        "model,opt = get_model()\n",
        "fit()\n",
        "\n",
        "loss,acc = loss_func(model(xb), yb), accuracy(model(xb), yb)\n",
        "assert acc>0.7\n",
        "loss,acc"
      ],
      "execution_count": 225,
      "outputs": [
        {
          "output_type": "execute_result",
          "data": {
            "text/plain": [
              "(tensor(0.2279, grad_fn=<NllLossBackward>), tensor(0.9219))"
            ]
          },
          "metadata": {
            "tags": []
          },
          "execution_count": 225
        }
      ]
    },
    {
      "cell_type": "code",
      "metadata": {
        "id": "RY5O15_e_VEl",
        "colab_type": "code",
        "colab": {}
      },
      "source": [
        "def fit(epochs, model, loss_func, opt, train_dl, valid_dl):\n",
        "    for epoch in range(epochs):\n",
        "        # Handle batchnorm / dropout\n",
        "        model.train()\n",
        "#         print(model.training)\n",
        "        for xb,yb in train_dl:\n",
        "            loss = loss_func(model(xb), yb)\n",
        "            loss.backward()\n",
        "            opt.step()\n",
        "            opt.zero_grad()\n",
        "\n",
        "        model.eval()\n",
        "#         print(model.training)\n",
        "        with torch.no_grad():\n",
        "            tot_loss,tot_acc = 0.,0.\n",
        "            for xb,yb in valid_dl:\n",
        "                pred = model(xb)\n",
        "                tot_loss += loss_func(pred, yb)\n",
        "                tot_acc  += accuracy (pred,yb)\n",
        "        nv = len(valid_dl)\n",
        "        print(epoch, tot_loss/nv, tot_acc/nv)\n",
        "    return tot_loss/nv, tot_acc/nv"
      ],
      "execution_count": 0,
      "outputs": []
    },
    {
      "cell_type": "code",
      "metadata": {
        "id": "5YtMiOSjAp5q",
        "colab_type": "code",
        "colab": {}
      },
      "source": [
        "def get_dls(train_ds, valid_ds, bs, **kwargs):\n",
        "    return (DataLoader(train_ds, batch_size=bs, shuffle=True, **kwargs),\n",
        "            DataLoader(valid_ds, batch_size=bs*2, **kwargs))"
      ],
      "execution_count": 0,
      "outputs": []
    },
    {
      "cell_type": "code",
      "metadata": {
        "id": "m2C1wBfWBJkX",
        "colab_type": "code",
        "colab": {
          "base_uri": "https://localhost:8080/",
          "height": 104
        },
        "outputId": "1256325a-02af-43a0-d520-7df2c6cc76e3"
      },
      "source": [
        "train_dl,valid_dl = get_dls(train_ds, valid_ds, bs)\n",
        "model,opt = get_model()\n",
        "loss,acc = fit(5, model, loss_func, opt, train_dl, valid_dl)"
      ],
      "execution_count": 229,
      "outputs": [
        {
          "output_type": "stream",
          "text": [
            "0 tensor(0.3233) tensor(0.9001)\n",
            "1 tensor(0.1385) tensor(0.9593)\n",
            "2 tensor(0.1115) tensor(0.9676)\n",
            "3 tensor(0.1319) tensor(0.9606)\n",
            "4 tensor(0.1144) tensor(0.9678)\n"
          ],
          "name": "stdout"
        }
      ]
    },
    {
      "cell_type": "code",
      "metadata": {
        "id": "g5u77jQGBIrB",
        "colab_type": "code",
        "colab": {}
      },
      "source": [
        ""
      ],
      "execution_count": 0,
      "outputs": []
    }
  ]
}